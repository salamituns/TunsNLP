{
 "cells": [
  {
   "cell_type": "markdown",
   "source": [
    "## BAG OF WORDS (BoW):\n",
    "It is simple the representation of text that describes the occurrence of words in a document. It is a simple and flexible way of extracting features from documents.\n",
    "It works by keeping track of the word counts and  disregarding the grammtical details as well as the word count order "
   ],
   "metadata": {}
  },
  {
   "cell_type": "markdown",
   "source": [
    "###                                     Implemeting BoW "
   ],
   "metadata": {}
  },
  {
   "cell_type": "code",
   "execution_count": 2,
   "source": [
    "import nltk"
   ],
   "outputs": [],
   "metadata": {}
  },
  {
   "cell_type": "code",
   "execution_count": 3,
   "source": [
    "paragraph = \"\"\"I have three visions for India. In 3000 years of our history, people from all over \n",
    "            the world have come and invaded us, captured our lands, conquered our minds. \n",
    "            From Alexander onwards, the Greeks, the Turks, the Moguls, the Portuguese, the British,\n",
    "            the French, the Dutch, all of them came and looted us, took over what was ours. \n",
    "            Yet we have not done this to any other nation. We have not conquered anyone. \n",
    "            We have not grabbed their land, their culture, \n",
    "            their history and tried to enforce our way of life on them. \n",
    "            Why? Because we respect the freedom of others.That is why my \n",
    "            first vision is that of freedom. I believe that India got its first vision of \n",
    "            this in 1857, when we started the War of Independence. It is this freedom that\n",
    "            we must protect and nurture and build on. If we are not free, no one will respect us.\n",
    "            My second vision for India’s development. For fifty years we have been a developing nation.\n",
    "            It is time we see ourselves as a developed nation. We are among the top 5 nations of the world\n",
    "            in terms of GDP. We have a 10 percent growth rate in most areas. Our poverty levels are falling.\n",
    "            Our achievements are being globally recognised today. Yet we lack the self-confidence to\n",
    "            see ourselves as a developed nation, self-reliant and self-assured. Isn’t this incorrect?\n",
    "            I have a third vision. India must stand up to the world. Because I believe that unless India \n",
    "            stands up to the world, no one will respect us. Only strength respects strength. We must be \n",
    "            strong not only as a military power but also as an economic power. Both must go hand-in-hand. \n",
    "            My good fortune was to have worked with three great minds. Dr. Vikram Sarabhai of the Dept. of \n",
    "            space, Professor Satish Dhawan, who succeeded him and Dr. Brahm Prakash, father of nuclear material.\n",
    "            I was lucky to have worked with all three of them closely and consider this the great opportunity of my life. \n",
    "            I see four milestones in my career\"\"\"\n"
   ],
   "outputs": [],
   "metadata": {}
  },
  {
   "cell_type": "markdown",
   "source": [
    "#### cleaning the text (paragraph)"
   ],
   "metadata": {}
  },
  {
   "cell_type": "code",
   "execution_count": 4,
   "source": [
    "#import neccesary depencies\n",
    "import re #regular expression\n",
    "from nltk.corpus import stopwords    #removing e.g: , . is, of, ....etc.\n",
    "from nltk.stem.porter import PorterStemmer   #then stem the words\n",
    "from nltk.stem import WordNetLemmatizer      #or lemmatize the words\n",
    "\n",
    "ps = PorterStemmer()     #assign stemmer\n",
    "wordnet = WordNetLemmatizer()   #and assign lemmatizer\n",
    "sentences = nltk.sent_tokenize(paragraph)   #then convert paragragphs to sentence\n",
    "corpus = []     #list where cleaned data would be saved\n",
    "\n",
    "for i in range(len(sentences)):\n",
    "    #remove, replace every words, except a-z|A-Z present in the sentence, with spaces ' '\n",
    "    review = re.sub('[^a-zA-Z]', ' ', sentences[i])     \n",
    "    #then convert to lowercase\n",
    "    review = review.lower()\n",
    "    #then split\n",
    "    review = review.split()\n",
    "    \n",
    "    #filter out and lemmatize only words exempted from the stopwords lib\n",
    "    review = [wordnet.lemmatize(word) for word in review if not word in set(stopwords.words('english'))]\n",
    "    #now join them together\n",
    "    review = ' '.join(review)\n",
    "    #now save in corpus as a list\n",
    "    corpus.append(review)\n"
   ],
   "outputs": [],
   "metadata": {}
  },
  {
   "cell_type": "code",
   "execution_count": 5,
   "source": [
    "corpus"
   ],
   "outputs": [
    {
     "output_type": "execute_result",
     "data": {
      "text/plain": [
       "['three vision india',\n",
       " 'year history people world come invaded u captured land conquered mind',\n",
       " 'alexander onwards greek turk mogul portuguese british french dutch came looted u took',\n",
       " 'yet done nation',\n",
       " 'conquered anyone',\n",
       " 'grabbed land culture history tried enforce way life',\n",
       " '',\n",
       " 'respect freedom others first vision freedom',\n",
       " 'believe india got first vision started war independence',\n",
       " 'freedom must protect nurture build',\n",
       " 'free one respect u',\n",
       " 'second vision india development',\n",
       " 'fifty year developing nation',\n",
       " 'time see developed nation',\n",
       " 'among top nation world term gdp',\n",
       " 'percent growth rate area',\n",
       " 'poverty level falling',\n",
       " 'achievement globally recognised today',\n",
       " 'yet lack self confidence see developed nation self reliant self assured',\n",
       " 'incorrect',\n",
       " 'third vision',\n",
       " 'india must stand world',\n",
       " 'believe unless india stand world one respect u',\n",
       " 'strength respect strength',\n",
       " 'must strong military power also economic power',\n",
       " 'must go hand hand',\n",
       " 'good fortune worked three great mind',\n",
       " 'dr vikram sarabhai dept',\n",
       " 'space professor satish dhawan succeeded dr brahm prakash father nuclear material',\n",
       " 'lucky worked three closely consider great opportunity life',\n",
       " 'see four milestone career']"
      ]
     },
     "metadata": {},
     "execution_count": 5
    }
   ],
   "metadata": {}
  },
  {
   "cell_type": "markdown",
   "source": [
    "### creating the Bag of Word model"
   ],
   "metadata": {}
  },
  {
   "cell_type": "code",
   "execution_count": 10,
   "source": [
    "#Implementing the sklearn for the BoW model\n",
    "\n",
    "from sklearn.feature_extraction.text import CountVectorizer   #library which creates document matrix for BoW\n",
    "cv = CountVectorizer()      #then assign it to a variable\n",
    "X = cv.fit_transform(corpus).toarray()    #then tranform the text and convert to an array\n",
    "\n",
    "print(X.shape)\n",
    "print(\"31 sentences, and 114 different tokens\")"
   ],
   "outputs": [
    {
     "output_type": "stream",
     "name": "stdout",
     "text": [
      "(31, 114)\n",
      "31 sentences, and 114 different tokens\n"
     ]
    }
   ],
   "metadata": {}
  },
  {
   "cell_type": "markdown",
   "source": [
    "## Term Frequency (TF) & Inverse Document Frequency (IDF)\n",
    "\n",
    "This approach is intended to reflect how relevant a term is, in a given document.\n",
    "\n",
    "TF = (no of representation of words in sentence)/ (no of words in the sentence)\n",
    "\n",
    "IDF = log ((no of sentences) / (no of sentences containing words) )"
   ],
   "metadata": {}
  },
  {
   "cell_type": "code",
   "execution_count": 15,
   "source": [
    "#Implementing TFIDF also using SKlearn library\n",
    "\n",
    "from sklearn.feature_extraction.text import TfidfVectorizer\n",
    "cvv = TfidfVectorizer()\n",
    "y = cvv.fit_transform(corpus).toarray \n",
    "\n",
    "y"
   ],
   "outputs": [
    {
     "output_type": "execute_result",
     "data": {
      "text/plain": [
       "<bound method _cs_matrix.toarray of <31x114 sparse matrix of type '<class 'numpy.float64'>'\n",
       "\twith 155 stored elements in Compressed Sparse Row format>>"
      ]
     },
     "metadata": {},
     "execution_count": 15
    }
   ],
   "metadata": {}
  },
  {
   "cell_type": "markdown",
   "source": [
    "y is printed on the TFIDF approach, and rescales the frequency of words by how often that they appear in the entire paragraph."
   ],
   "metadata": {}
  },
  {
   "cell_type": "code",
   "execution_count": null,
   "source": [],
   "outputs": [],
   "metadata": {}
  }
 ],
 "metadata": {
  "orig_nbformat": 4,
  "language_info": {
   "name": "python",
   "version": "3.9.5",
   "mimetype": "text/x-python",
   "codemirror_mode": {
    "name": "ipython",
    "version": 3
   },
   "pygments_lexer": "ipython3",
   "nbconvert_exporter": "python",
   "file_extension": ".py"
  },
  "kernelspec": {
   "name": "python3",
   "display_name": "Python 3.9.5 64-bit ('tunsnlp': conda)"
  },
  "interpreter": {
   "hash": "5d32600553d5e3df1fa0d4cd74672dba3904c5927093eb405f4c87af791217b1"
  }
 },
 "nbformat": 4,
 "nbformat_minor": 2
}